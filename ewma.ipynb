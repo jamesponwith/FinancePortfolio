{
 "cells": [
  {
   "cell_type": "code",
   "execution_count": 1,
   "id": "b5ed0cac",
   "metadata": {},
   "outputs": [],
   "source": [
    "# Exponentially Weights Moving Average"
   ]
  },
  {
   "cell_type": "code",
   "execution_count": null,
   "id": "08adf855",
   "metadata": {},
   "outputs": [],
   "source": [
    "import pandas as pd\n",
    "import numpy as np\n",
    "import matplotlib.pyplot as plt\n",
    "%matplotlib inline"
   ]
  },
  {
   "cell_type": "code",
   "execution_count": null,
   "id": "46cbca9d",
   "metadata": {},
   "outputs": [],
   "source": [
    "airline = pd.read_csv('airline_passengers.csv', index_col=\"Month\")"
   ]
  },
  {
   "cell_type": "code",
   "execution_count": null,
   "id": "586a88c7",
   "metadata": {},
   "outputs": [],
   "source": [
    "airline.dropna(inplace=True)"
   ]
  },
  {
   "cell_type": "code",
   "execution_count": null,
   "id": "cff087c0",
   "metadata": {},
   "outputs": [],
   "source": [
    "airline.index = pd.to_dateline(airline.index)"
   ]
  },
  {
   "cell_type": "code",
   "execution_count": null,
   "id": "40183b67",
   "metadata": {},
   "outputs": [],
   "source": [
    "airline.head()"
   ]
  },
  {
   "cell_type": "code",
   "execution_count": null,
   "id": "1a1bc0d6",
   "metadata": {},
   "outputs": [],
   "source": [
    "# Simple Moving Average"
   ]
  },
  {
   "cell_type": "code",
   "execution_count": null,
   "id": "945ceeca",
   "metadata": {},
   "outputs": [],
   "source": [
    "airline['6-Month-SMA'] = airline['Thousands of Passengers'].rolling(window=6).mean()"
   ]
  },
  {
   "cell_type": "code",
   "execution_count": null,
   "id": "20f4c36e",
   "metadata": {},
   "outputs": [],
   "source": [
    "airline['12-Month-SMA'] = airline['Thousands of Passengers'].rolling(window=12).mean()"
   ]
  },
  {
   "cell_type": "code",
   "execution_count": null,
   "id": "591ddb21",
   "metadata": {},
   "outputs": [],
   "source": [
    "airline.plot(figsize=(10,8))"
   ]
  },
  {
   "cell_type": "code",
   "execution_count": null,
   "id": "1ebdda80",
   "metadata": {},
   "outputs": [],
   "source": [
    "# Exponential Weighted Moving Average"
   ]
  },
  {
   "cell_type": "code",
   "execution_count": null,
   "id": "9247d4e8",
   "metadata": {},
   "outputs": [],
   "source": [
    "airline['EWMA-12'] = airline['Thousands of Passengers'].ewm(span=12).mean()"
   ]
  },
  {
   "cell_type": "code",
   "execution_count": null,
   "id": "ffbc7205",
   "metadata": {},
   "outputs": [],
   "source": [
    "airline[['Thousands of Passengers', 'EWMA-12']].plot(figsize=(10,8))"
   ]
  }
 ],
 "metadata": {
  "kernelspec": {
   "display_name": "Python 3",
   "language": "python",
   "name": "python3"
  },
  "language_info": {
   "codemirror_mode": {
    "name": "ipython",
    "version": 3
   },
   "file_extension": ".py",
   "mimetype": "text/x-python",
   "name": "python",
   "nbconvert_exporter": "python",
   "pygments_lexer": "ipython3",
   "version": "3.9.6"
  }
 },
 "nbformat": 4,
 "nbformat_minor": 5
}
