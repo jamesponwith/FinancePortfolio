{
 "cells": [
  {
   "cell_type": "code",
   "execution_count": 2,
   "id": "ec34fd56",
   "metadata": {},
   "outputs": [],
   "source": [
    "import numpy as np\n",
    "import pandas as pd\n",
    "import matplotlib.pyplot as plt\n",
    "%matplotlib inline"
   ]
  },
  {
   "cell_type": "code",
   "execution_count": 4,
   "id": "40573473",
   "metadata": {},
   "outputs": [],
   "source": [
    "import pandas_datareader\n",
    "import datetime"
   ]
  },
  {
   "cell_type": "code",
   "execution_count": 5,
   "id": "331fe8cc",
   "metadata": {},
   "outputs": [],
   "source": [
    "import pandas_datareader.data as web"
   ]
  },
  {
   "cell_type": "code",
   "execution_count": 7,
   "id": "56f77d5c",
   "metadata": {},
   "outputs": [],
   "source": [
    "# start = datetime.datetime(2017, 6, 1)\n",
    "# end = datetime.datetime(2021, 6, 1)\n",
    "# tesla = web.DataReader(\"TSLA\", 'google', start, end)"
   ]
  },
  {
   "cell_type": "code",
   "execution_count": 9,
   "id": "df33f918",
   "metadata": {},
   "outputs": [],
   "source": [
    "import quandl"
   ]
  },
  {
   "cell_type": "code",
   "execution_count": 10,
   "id": "5307eb81",
   "metadata": {},
   "outputs": [],
   "source": [
    "start = pd.to_datetime('2017-06-01')\n",
    "end = pd.to_datetime('2021-06-01')"
   ]
  },
  {
   "cell_type": "code",
   "execution_count": 23,
   "id": "8d56bbf9",
   "metadata": {},
   "outputs": [],
   "source": [
    "# Grabbing a bunch of tech stocks for our portfolio\n",
    "symbol = 'WIKI/TSLA'\n",
    "tsla_df = web.DataReader(symbol, 'quandl', '2017-06-01', '2021-06-01',0,api_key='VyMgAh2xwHRz5fEhZH4-')\n",
    "symbol = 'WIKI/QCOM'\n",
    "qcom_df = web.DataReader(symbol, 'quandl', '2017-06-01', '2021-06-01',0,api_key='VyMgAh2xwHRz5fEhZH4-')\n",
    "symbol = 'WIKI/NKE'\n",
    "nke_df = web.DataReader(symbol, 'quandl', '2017-06-01', '2021-06-01',0,api_key='VyMgAh2xwHRz5fEhZH4-')\n",
    "symbol = 'WIKI/DIS'\n",
    "dis_df = web.DataReader(symbol, 'quandl', '2017-06-01', '2021-06-01',0,api_key='VyMgAh2xwHRz5fEhZH4-')\n",
    "symbol = 'WIKI/JNJ'\n",
    "jnj_df = web.DataReader(symbol, 'quandl', '2017-06-01', '2021-06-01',0,api_key='VyMgAh2xwHRz5fEhZH4-')"
   ]
  },
  {
   "cell_type": "code",
   "execution_count": 37,
   "id": "1c531645",
   "metadata": {},
   "outputs": [
    {
     "name": "stdout",
     "output_type": "stream",
     "text": [
      "             Open   High    Low  Close      Volume  ExDividend  SplitRatio  \\\n",
      "Date                                                                         \n",
      "2018-03-27  56.59  57.24  54.54  54.84  11972935.0         0.0         1.0   \n",
      "2018-03-26  54.58  56.14  54.25  56.13  11905323.0         0.0         1.0   \n",
      "2018-03-23  55.63  56.15  53.65  53.66  14509870.0         0.0         1.0   \n",
      "2018-03-22  56.24  56.83  55.52  55.58  13218154.0         0.0         1.0   \n",
      "2018-03-21  57.50  58.28  56.77  56.81  12122169.0         0.0         1.0   \n",
      "...           ...    ...    ...    ...         ...         ...         ...   \n",
      "2017-06-07  58.30  58.49  57.13  57.53   9967746.0         0.0         1.0   \n",
      "2017-06-06  58.60  58.91  58.18  58.20   7808482.0         0.0         1.0   \n",
      "2017-06-05  58.50  59.05  58.48  58.85   7655063.0         0.0         1.0   \n",
      "2017-06-02  58.89  58.96  58.35  58.58   9461824.0         0.0         1.0   \n",
      "2017-06-01  57.45  58.65  57.35  58.62  11116224.0         0.0         1.0   \n",
      "\n",
      "              AdjOpen    AdjHigh     AdjLow   AdjClose   AdjVolume  \\\n",
      "Date                                                                 \n",
      "2018-03-27  56.590000  57.240000  54.540000  54.840000  11972935.0   \n",
      "2018-03-26  54.580000  56.140000  54.250000  56.130000  11905323.0   \n",
      "2018-03-23  55.630000  56.150000  53.650000  53.660000  14509870.0   \n",
      "2018-03-22  56.240000  56.830000  55.520000  55.580000  13218154.0   \n",
      "2018-03-21  57.500000  58.280000  56.770000  56.810000  12122169.0   \n",
      "...               ...        ...        ...        ...         ...   \n",
      "2017-06-07  57.188865  57.375244  56.041164  56.433541   9967746.0   \n",
      "2017-06-06  57.483148  57.787239  57.071152  57.090771   7808482.0   \n",
      "2017-06-05  57.385053  57.924571  57.365435  57.728383   7655063.0   \n",
      "2017-06-02  57.767620  57.836286  57.237912  57.463529   9461824.0   \n",
      "2017-06-01  56.355065  57.532195  56.256971  57.502766  11116224.0   \n",
      "\n",
      "            NormedReturn  \n",
      "Date                      \n",
      "2018-03-27      1.000000  \n",
      "2018-03-26      1.023523  \n",
      "2018-03-23      0.978483  \n",
      "2018-03-22      1.013494  \n",
      "2018-03-21      1.035923  \n",
      "...                  ...  \n",
      "2017-06-07      1.029058  \n",
      "2017-06-06      1.041043  \n",
      "2017-06-05      1.052669  \n",
      "2017-06-02      1.047840  \n",
      "2017-06-01      1.048555  \n",
      "\n",
      "[205 rows x 13 columns]\n"
     ]
    }
   ],
   "source": [
    "print(qcom_df)"
   ]
  },
  {
   "cell_type": "code",
   "execution_count": 35,
   "id": "ea7a7dd7",
   "metadata": {},
   "outputs": [
    {
     "data": {
      "text/plain": [
       "279.18"
      ]
     },
     "execution_count": 35,
     "metadata": {},
     "output_type": "execute_result"
    }
   ],
   "source": [
    "# tsla_df\n",
    "# qcom_df\n",
    "# nke_df\n",
    "# dis_df\n",
    "# jnj_df\n",
    "tsla_df.iloc[0]['AdjClose']"
   ]
  },
  {
   "cell_type": "code",
   "execution_count": 40,
   "id": "e1e177e8",
   "metadata": {},
   "outputs": [],
   "source": [
    "for stock_df in (tsla_df, qcom_df, nke_df, dis_df, jnj_df):\n",
    "    stock_df['NormedReturn'] = stock_df['AdjClose']/stock_df.iloc[-1]['AdjClose']"
   ]
  },
  {
   "cell_type": "code",
   "execution_count": 49,
   "id": "a317d27f",
   "metadata": {},
   "outputs": [
    {
     "data": {
      "text/html": [
       "<div>\n",
       "<style scoped>\n",
       "    .dataframe tbody tr th:only-of-type {\n",
       "        vertical-align: middle;\n",
       "    }\n",
       "\n",
       "    .dataframe tbody tr th {\n",
       "        vertical-align: top;\n",
       "    }\n",
       "\n",
       "    .dataframe thead th {\n",
       "        text-align: right;\n",
       "    }\n",
       "</style>\n",
       "<table border=\"1\" class=\"dataframe\">\n",
       "  <thead>\n",
       "    <tr style=\"text-align: right;\">\n",
       "      <th></th>\n",
       "      <th>Open</th>\n",
       "      <th>High</th>\n",
       "      <th>Low</th>\n",
       "      <th>Close</th>\n",
       "      <th>Volume</th>\n",
       "      <th>ExDividend</th>\n",
       "      <th>SplitRatio</th>\n",
       "      <th>AdjOpen</th>\n",
       "      <th>AdjHigh</th>\n",
       "      <th>AdjLow</th>\n",
       "      <th>AdjClose</th>\n",
       "      <th>AdjVolume</th>\n",
       "      <th>NormedReturn</th>\n",
       "      <th>Allocation</th>\n",
       "      <th>PositionValues</th>\n",
       "    </tr>\n",
       "    <tr>\n",
       "      <th>Date</th>\n",
       "      <th></th>\n",
       "      <th></th>\n",
       "      <th></th>\n",
       "      <th></th>\n",
       "      <th></th>\n",
       "      <th></th>\n",
       "      <th></th>\n",
       "      <th></th>\n",
       "      <th></th>\n",
       "      <th></th>\n",
       "      <th></th>\n",
       "      <th></th>\n",
       "      <th></th>\n",
       "      <th></th>\n",
       "      <th></th>\n",
       "    </tr>\n",
       "  </thead>\n",
       "  <tbody>\n",
       "    <tr>\n",
       "      <th>2018-03-27</th>\n",
       "      <td>56.59</td>\n",
       "      <td>57.24</td>\n",
       "      <td>54.54</td>\n",
       "      <td>54.84</td>\n",
       "      <td>11972935.0</td>\n",
       "      <td>0.0</td>\n",
       "      <td>1.0</td>\n",
       "      <td>56.59</td>\n",
       "      <td>57.24</td>\n",
       "      <td>54.54</td>\n",
       "      <td>54.84</td>\n",
       "      <td>11972935.0</td>\n",
       "      <td>0.953693</td>\n",
       "      <td>0.286108</td>\n",
       "      <td>286107.974374</td>\n",
       "    </tr>\n",
       "    <tr>\n",
       "      <th>2018-03-26</th>\n",
       "      <td>54.58</td>\n",
       "      <td>56.14</td>\n",
       "      <td>54.25</td>\n",
       "      <td>56.13</td>\n",
       "      <td>11905323.0</td>\n",
       "      <td>0.0</td>\n",
       "      <td>1.0</td>\n",
       "      <td>54.58</td>\n",
       "      <td>56.14</td>\n",
       "      <td>54.25</td>\n",
       "      <td>56.13</td>\n",
       "      <td>11905323.0</td>\n",
       "      <td>0.976127</td>\n",
       "      <td>0.292838</td>\n",
       "      <td>292838.085369</td>\n",
       "    </tr>\n",
       "    <tr>\n",
       "      <th>2018-03-23</th>\n",
       "      <td>55.63</td>\n",
       "      <td>56.15</td>\n",
       "      <td>53.65</td>\n",
       "      <td>53.66</td>\n",
       "      <td>14509870.0</td>\n",
       "      <td>0.0</td>\n",
       "      <td>1.0</td>\n",
       "      <td>55.63</td>\n",
       "      <td>56.15</td>\n",
       "      <td>53.65</td>\n",
       "      <td>53.66</td>\n",
       "      <td>14509870.0</td>\n",
       "      <td>0.933172</td>\n",
       "      <td>0.279952</td>\n",
       "      <td>279951.748813</td>\n",
       "    </tr>\n",
       "    <tr>\n",
       "      <th>2018-03-22</th>\n",
       "      <td>56.24</td>\n",
       "      <td>56.83</td>\n",
       "      <td>55.52</td>\n",
       "      <td>55.58</td>\n",
       "      <td>13218154.0</td>\n",
       "      <td>0.0</td>\n",
       "      <td>1.0</td>\n",
       "      <td>56.24</td>\n",
       "      <td>56.83</td>\n",
       "      <td>55.52</td>\n",
       "      <td>55.58</td>\n",
       "      <td>13218154.0</td>\n",
       "      <td>0.966562</td>\n",
       "      <td>0.289969</td>\n",
       "      <td>289968.658200</td>\n",
       "    </tr>\n",
       "    <tr>\n",
       "      <th>2018-03-21</th>\n",
       "      <td>57.50</td>\n",
       "      <td>58.28</td>\n",
       "      <td>56.77</td>\n",
       "      <td>56.81</td>\n",
       "      <td>12122169.0</td>\n",
       "      <td>0.0</td>\n",
       "      <td>1.0</td>\n",
       "      <td>57.50</td>\n",
       "      <td>58.28</td>\n",
       "      <td>56.77</td>\n",
       "      <td>56.81</td>\n",
       "      <td>12122169.0</td>\n",
       "      <td>0.987952</td>\n",
       "      <td>0.296386</td>\n",
       "      <td>296385.740777</td>\n",
       "    </tr>\n",
       "  </tbody>\n",
       "</table>\n",
       "</div>"
      ],
      "text/plain": [
       "             Open   High    Low  Close      Volume  ExDividend  SplitRatio  \\\n",
       "Date                                                                         \n",
       "2018-03-27  56.59  57.24  54.54  54.84  11972935.0         0.0         1.0   \n",
       "2018-03-26  54.58  56.14  54.25  56.13  11905323.0         0.0         1.0   \n",
       "2018-03-23  55.63  56.15  53.65  53.66  14509870.0         0.0         1.0   \n",
       "2018-03-22  56.24  56.83  55.52  55.58  13218154.0         0.0         1.0   \n",
       "2018-03-21  57.50  58.28  56.77  56.81  12122169.0         0.0         1.0   \n",
       "\n",
       "            AdjOpen  AdjHigh  AdjLow  AdjClose   AdjVolume  NormedReturn  \\\n",
       "Date                                                                       \n",
       "2018-03-27    56.59    57.24   54.54     54.84  11972935.0      0.953693   \n",
       "2018-03-26    54.58    56.14   54.25     56.13  11905323.0      0.976127   \n",
       "2018-03-23    55.63    56.15   53.65     53.66  14509870.0      0.933172   \n",
       "2018-03-22    56.24    56.83   55.52     55.58  13218154.0      0.966562   \n",
       "2018-03-21    57.50    58.28   56.77     56.81  12122169.0      0.987952   \n",
       "\n",
       "            Allocation  PositionValues  \n",
       "Date                                    \n",
       "2018-03-27    0.286108   286107.974374  \n",
       "2018-03-26    0.292838   292838.085369  \n",
       "2018-03-23    0.279952   279951.748813  \n",
       "2018-03-22    0.289969   289968.658200  \n",
       "2018-03-21    0.296386   296385.740777  "
      ]
     },
     "execution_count": 49,
     "metadata": {},
     "output_type": "execute_result"
    }
   ],
   "source": [
    "qcom_df.head()"
   ]
  },
  {
   "cell_type": "code",
   "execution_count": 50,
   "id": "3afdcf7c",
   "metadata": {},
   "outputs": [
    {
     "data": {
      "text/html": [
       "<div>\n",
       "<style scoped>\n",
       "    .dataframe tbody tr th:only-of-type {\n",
       "        vertical-align: middle;\n",
       "    }\n",
       "\n",
       "    .dataframe tbody tr th {\n",
       "        vertical-align: top;\n",
       "    }\n",
       "\n",
       "    .dataframe thead th {\n",
       "        text-align: right;\n",
       "    }\n",
       "</style>\n",
       "<table border=\"1\" class=\"dataframe\">\n",
       "  <thead>\n",
       "    <tr style=\"text-align: right;\">\n",
       "      <th></th>\n",
       "      <th>Open</th>\n",
       "      <th>High</th>\n",
       "      <th>Low</th>\n",
       "      <th>Close</th>\n",
       "      <th>Volume</th>\n",
       "      <th>ExDividend</th>\n",
       "      <th>SplitRatio</th>\n",
       "      <th>AdjOpen</th>\n",
       "      <th>AdjHigh</th>\n",
       "      <th>AdjLow</th>\n",
       "      <th>AdjClose</th>\n",
       "      <th>AdjVolume</th>\n",
       "      <th>NormedReturn</th>\n",
       "      <th>Allocation</th>\n",
       "      <th>PositionValues</th>\n",
       "    </tr>\n",
       "    <tr>\n",
       "      <th>Date</th>\n",
       "      <th></th>\n",
       "      <th></th>\n",
       "      <th></th>\n",
       "      <th></th>\n",
       "      <th></th>\n",
       "      <th></th>\n",
       "      <th></th>\n",
       "      <th></th>\n",
       "      <th></th>\n",
       "      <th></th>\n",
       "      <th></th>\n",
       "      <th></th>\n",
       "      <th></th>\n",
       "      <th></th>\n",
       "      <th></th>\n",
       "    </tr>\n",
       "  </thead>\n",
       "  <tbody>\n",
       "    <tr>\n",
       "      <th>2017-06-07</th>\n",
       "      <td>58.30</td>\n",
       "      <td>58.49</td>\n",
       "      <td>57.13</td>\n",
       "      <td>57.53</td>\n",
       "      <td>9967746.0</td>\n",
       "      <td>0.0</td>\n",
       "      <td>1.0</td>\n",
       "      <td>57.188865</td>\n",
       "      <td>57.375244</td>\n",
       "      <td>56.041164</td>\n",
       "      <td>56.433541</td>\n",
       "      <td>9967746.0</td>\n",
       "      <td>0.981406</td>\n",
       "      <td>0.294422</td>\n",
       "      <td>294421.699079</td>\n",
       "    </tr>\n",
       "    <tr>\n",
       "      <th>2017-06-06</th>\n",
       "      <td>58.60</td>\n",
       "      <td>58.91</td>\n",
       "      <td>58.18</td>\n",
       "      <td>58.20</td>\n",
       "      <td>7808482.0</td>\n",
       "      <td>0.0</td>\n",
       "      <td>1.0</td>\n",
       "      <td>57.483148</td>\n",
       "      <td>57.787239</td>\n",
       "      <td>57.071152</td>\n",
       "      <td>57.090771</td>\n",
       "      <td>7808482.0</td>\n",
       "      <td>0.992835</td>\n",
       "      <td>0.297851</td>\n",
       "      <td>297850.562948</td>\n",
       "    </tr>\n",
       "    <tr>\n",
       "      <th>2017-06-05</th>\n",
       "      <td>58.50</td>\n",
       "      <td>59.05</td>\n",
       "      <td>58.48</td>\n",
       "      <td>58.85</td>\n",
       "      <td>7655063.0</td>\n",
       "      <td>0.0</td>\n",
       "      <td>1.0</td>\n",
       "      <td>57.385053</td>\n",
       "      <td>57.924571</td>\n",
       "      <td>57.365435</td>\n",
       "      <td>57.728383</td>\n",
       "      <td>7655063.0</td>\n",
       "      <td>1.003924</td>\n",
       "      <td>0.301177</td>\n",
       "      <td>301177.072671</td>\n",
       "    </tr>\n",
       "    <tr>\n",
       "      <th>2017-06-02</th>\n",
       "      <td>58.89</td>\n",
       "      <td>58.96</td>\n",
       "      <td>58.35</td>\n",
       "      <td>58.58</td>\n",
       "      <td>9461824.0</td>\n",
       "      <td>0.0</td>\n",
       "      <td>1.0</td>\n",
       "      <td>57.767620</td>\n",
       "      <td>57.836286</td>\n",
       "      <td>57.237912</td>\n",
       "      <td>57.463529</td>\n",
       "      <td>9461824.0</td>\n",
       "      <td>0.999318</td>\n",
       "      <td>0.299795</td>\n",
       "      <td>299795.291709</td>\n",
       "    </tr>\n",
       "    <tr>\n",
       "      <th>2017-06-01</th>\n",
       "      <td>57.45</td>\n",
       "      <td>58.65</td>\n",
       "      <td>57.35</td>\n",
       "      <td>58.62</td>\n",
       "      <td>11116224.0</td>\n",
       "      <td>0.0</td>\n",
       "      <td>1.0</td>\n",
       "      <td>56.355065</td>\n",
       "      <td>57.532195</td>\n",
       "      <td>56.256971</td>\n",
       "      <td>57.502766</td>\n",
       "      <td>11116224.0</td>\n",
       "      <td>1.000000</td>\n",
       "      <td>0.300000</td>\n",
       "      <td>300000.000000</td>\n",
       "    </tr>\n",
       "  </tbody>\n",
       "</table>\n",
       "</div>"
      ],
      "text/plain": [
       "             Open   High    Low  Close      Volume  ExDividend  SplitRatio  \\\n",
       "Date                                                                         \n",
       "2017-06-07  58.30  58.49  57.13  57.53   9967746.0         0.0         1.0   \n",
       "2017-06-06  58.60  58.91  58.18  58.20   7808482.0         0.0         1.0   \n",
       "2017-06-05  58.50  59.05  58.48  58.85   7655063.0         0.0         1.0   \n",
       "2017-06-02  58.89  58.96  58.35  58.58   9461824.0         0.0         1.0   \n",
       "2017-06-01  57.45  58.65  57.35  58.62  11116224.0         0.0         1.0   \n",
       "\n",
       "              AdjOpen    AdjHigh     AdjLow   AdjClose   AdjVolume  \\\n",
       "Date                                                                 \n",
       "2017-06-07  57.188865  57.375244  56.041164  56.433541   9967746.0   \n",
       "2017-06-06  57.483148  57.787239  57.071152  57.090771   7808482.0   \n",
       "2017-06-05  57.385053  57.924571  57.365435  57.728383   7655063.0   \n",
       "2017-06-02  57.767620  57.836286  57.237912  57.463529   9461824.0   \n",
       "2017-06-01  56.355065  57.532195  56.256971  57.502766  11116224.0   \n",
       "\n",
       "            NormedReturn  Allocation  PositionValues  \n",
       "Date                                                  \n",
       "2017-06-07      0.981406    0.294422   294421.699079  \n",
       "2017-06-06      0.992835    0.297851   297850.562948  \n",
       "2017-06-05      1.003924    0.301177   301177.072671  \n",
       "2017-06-02      0.999318    0.299795   299795.291709  \n",
       "2017-06-01      1.000000    0.300000   300000.000000  "
      ]
     },
     "execution_count": 50,
     "metadata": {},
     "output_type": "execute_result"
    }
   ],
   "source": [
    "qcom_df.tail()"
   ]
  },
  {
   "cell_type": "code",
   "execution_count": 45,
   "id": "26d8bec5",
   "metadata": {},
   "outputs": [],
   "source": [
    "for stock_df,allo in zip([tsla_df,qcom_df,nke_df,dis_df,jnj_df],[.2,.3,.3,.1,.1]):\n",
    "    stock_df['Allocation'] = stock_df['NormedReturn']*allo"
   ]
  },
  {
   "cell_type": "code",
   "execution_count": 54,
   "id": "6592f374",
   "metadata": {},
   "outputs": [],
   "source": [
    "for stock_df in [tsla_df,qcom_df,nke_df,dis_df,jnj_df]:\n",
    "    stock_df['PositionValues'] = stock_df['Allocation']*10000"
   ]
  },
  {
   "cell_type": "code",
   "execution_count": 55,
   "id": "aae26cbf",
   "metadata": {},
   "outputs": [],
   "source": [
    "portfolio_val = pd.concat([tsla_df['PositionValues'],qcom_df['PositionValues'],nke_df['PositionValues'],dis_df['PositionValues'],jnj_df['PositionValues']],axis=1)"
   ]
  },
  {
   "cell_type": "code",
   "execution_count": 56,
   "id": "097ab659",
   "metadata": {},
   "outputs": [
    {
     "data": {
      "text/html": [
       "<div>\n",
       "<style scoped>\n",
       "    .dataframe tbody tr th:only-of-type {\n",
       "        vertical-align: middle;\n",
       "    }\n",
       "\n",
       "    .dataframe tbody tr th {\n",
       "        vertical-align: top;\n",
       "    }\n",
       "\n",
       "    .dataframe thead th {\n",
       "        text-align: right;\n",
       "    }\n",
       "</style>\n",
       "<table border=\"1\" class=\"dataframe\">\n",
       "  <thead>\n",
       "    <tr style=\"text-align: right;\">\n",
       "      <th></th>\n",
       "      <th>PositionValues</th>\n",
       "      <th>PositionValues</th>\n",
       "      <th>PositionValues</th>\n",
       "      <th>PositionValues</th>\n",
       "      <th>PositionValues</th>\n",
       "    </tr>\n",
       "    <tr>\n",
       "      <th>Date</th>\n",
       "      <th></th>\n",
       "      <th></th>\n",
       "      <th></th>\n",
       "      <th></th>\n",
       "      <th></th>\n",
       "    </tr>\n",
       "  </thead>\n",
       "  <tbody>\n",
       "    <tr>\n",
       "      <th>2017-06-01</th>\n",
       "      <td>2000.000000</td>\n",
       "      <td>3000.000000</td>\n",
       "      <td>3000.000000</td>\n",
       "      <td>1000.000000</td>\n",
       "      <td>1000.000000</td>\n",
       "    </tr>\n",
       "    <tr>\n",
       "      <th>2017-06-02</th>\n",
       "      <td>1996.944502</td>\n",
       "      <td>2997.952917</td>\n",
       "      <td>3039.005736</td>\n",
       "      <td>990.481471</td>\n",
       "      <td>1010.094735</td>\n",
       "    </tr>\n",
       "    <tr>\n",
       "      <th>2017-06-05</th>\n",
       "      <td>2040.837912</td>\n",
       "      <td>3011.770727</td>\n",
       "      <td>3040.726577</td>\n",
       "      <td>984.382220</td>\n",
       "      <td>1012.268986</td>\n",
       "    </tr>\n",
       "    <tr>\n",
       "      <th>2017-06-06</th>\n",
       "      <td>2073.331962</td>\n",
       "      <td>2978.505629</td>\n",
       "      <td>3010.325048</td>\n",
       "      <td>974.956104</td>\n",
       "      <td>1015.918621</td>\n",
       "    </tr>\n",
       "    <tr>\n",
       "      <th>2017-06-07</th>\n",
       "      <td>2113.288480</td>\n",
       "      <td>2944.216991</td>\n",
       "      <td>3053.346080</td>\n",
       "      <td>978.837446</td>\n",
       "      <td>1015.297406</td>\n",
       "    </tr>\n",
       "  </tbody>\n",
       "</table>\n",
       "</div>"
      ],
      "text/plain": [
       "            PositionValues  PositionValues  PositionValues  PositionValues  \\\n",
       "Date                                                                         \n",
       "2017-06-01     2000.000000     3000.000000     3000.000000     1000.000000   \n",
       "2017-06-02     1996.944502     2997.952917     3039.005736      990.481471   \n",
       "2017-06-05     2040.837912     3011.770727     3040.726577      984.382220   \n",
       "2017-06-06     2073.331962     2978.505629     3010.325048      974.956104   \n",
       "2017-06-07     2113.288480     2944.216991     3053.346080      978.837446   \n",
       "\n",
       "            PositionValues  \n",
       "Date                        \n",
       "2017-06-01     1000.000000  \n",
       "2017-06-02     1010.094735  \n",
       "2017-06-05     1012.268986  \n",
       "2017-06-06     1015.918621  \n",
       "2017-06-07     1015.297406  "
      ]
     },
     "execution_count": 56,
     "metadata": {},
     "output_type": "execute_result"
    }
   ],
   "source": [
    "portfolio_val.head()"
   ]
  },
  {
   "cell_type": "code",
   "execution_count": 57,
   "id": "a8864c3d",
   "metadata": {},
   "outputs": [],
   "source": [
    "portfolio_val.columns = ['TSLA Pos','QCOM Pos','NKE Pos','DIS Pos','JNJ Pos']"
   ]
  },
  {
   "cell_type": "code",
   "execution_count": 60,
   "id": "2cb93585",
   "metadata": {},
   "outputs": [],
   "source": [
    "# import matplotlib.pyplot as plt\n",
    "# %matplotlib inline\n",
    "\n",
    "portfolio_val['Total Pos'] = portfolio_val.sum(axis=1)"
   ]
  },
  {
   "cell_type": "code",
   "execution_count": 61,
   "id": "e280328f",
   "metadata": {},
   "outputs": [
    {
     "data": {
      "text/plain": [
       "Text(0.5, 1.0, 'Total Portfolio Value')"
      ]
     },
     "execution_count": 61,
     "metadata": {},
     "output_type": "execute_result"
    },
    {
     "data": {
      "image/png": "[encoded data removed]",
      "text/plain": [
       "<Figure size 720x576 with 1 Axes>"
      ]
     },
     "metadata": {
      "needs_background": "light"
     },
     "output_type": "display_data"
    }
   ],
   "source": [
    "portfolio_val['Total Pos'].plot(figsize=(10,8))\n",
    "plt.title('Total Portfolio Value')"
   ]
  },
  {
   "cell_type": "code",
   "execution_count": 62,
   "id": "83d25c6c",
   "metadata": {},
   "outputs": [
    {
     "data": {
      "text/plain": [
       "<AxesSubplot:xlabel='Date'>"
      ]
     },
     "execution_count": 62,
     "metadata": {},
     "output_type": "execute_result"
    },
    {
     "data": {
      "image/png": "[encoded data removed]",
      "text/plain": [
       "<Figure size 432x288 with 1 Axes>"
      ]
     },
     "metadata": {
      "needs_background": "light"
     },
     "output_type": "display_data"
    }
   ],
   "source": [
    "portfolio_val.drop('Total Pos',axis=1).plot(kind='line')"
   ]
  },
  {
   "cell_type": "code",
   "execution_count": 63,
   "id": "f07d5ed7",
   "metadata": {},
   "outputs": [],
   "source": [
    "# Daily Returns\n",
    "portfolio_val['Daily Return'] = portfolio_val['Total Pos'].pct_change(1)"
   ]
  },
  {
   "cell_type": "code",
   "execution_count": 64,
   "id": "957726ab",
   "metadata": {},
   "outputs": [
    {
     "name": "stdout",
     "output_type": "stream",
     "text": [
      "Our return 2.3537046351000956 was percent!\n"
     ]
    }
   ],
   "source": [
    "# Cumulative Return\n",
    "cum_ret = 100 * (portfolio_val['Total Pos'][-1]/portfolio_val['Total Pos'][0] -1 )\n",
    "print('Our return {} was percent!'.format(cum_ret))"
   ]
  },
  {
   "cell_type": "code",
   "execution_count": 65,
   "id": "d420b512",
   "metadata": {},
   "outputs": [
    {
     "data": {
      "text/plain": [
       "0.0006416761202571576"
      ]
     },
     "execution_count": 65,
     "metadata": {},
     "output_type": "execute_result"
    }
   ],
   "source": [
    "# Avg Daily Return\n",
    "portfolio_val['Daily Return'].mean()"
   ]
  },
  {
   "cell_type": "code",
   "execution_count": 66,
   "id": "071c5dd1",
   "metadata": {},
   "outputs": [
    {
     "data": {
      "text/plain": [
       "0.03325123460254326"
      ]
     },
     "execution_count": 66,
     "metadata": {},
     "output_type": "execute_result"
    }
   ],
   "source": [
    "# Std Daily Return\n",
    "portfolio_val['Daily Return'].std()"
   ]
  },
  {
   "cell_type": "code",
   "execution_count": 70,
   "id": "2fc08430",
   "metadata": {},
   "outputs": [],
   "source": [
    "# portfolio_val['Daily Return'].plot(kind='kde')"
   ]
  },
  {
   "cell_type": "code",
   "execution_count": 71,
   "id": "4c9df2eb",
   "metadata": {},
   "outputs": [],
   "source": [
    "# Sharp Ratio\n",
    "SR = portfolio_val['Daily Return'].mean()/portfolio_val['Daily Return'].std()"
   ]
  },
  {
   "cell_type": "code",
   "execution_count": 72,
   "id": "7722d339",
   "metadata": {},
   "outputs": [
    {
     "data": {
      "text/plain": [
       "0.019297813387298354"
      ]
     },
     "execution_count": 72,
     "metadata": {},
     "output_type": "execute_result"
    }
   ],
   "source": [
    "SR"
   ]
  },
  {
   "cell_type": "code",
   "execution_count": 73,
   "id": "8d4f18d6",
   "metadata": {},
   "outputs": [],
   "source": [
    "# Annualized Sharp Ratio\n",
    "ASR = (252**0.5)*SR"
   ]
  },
  {
   "cell_type": "code",
   "execution_count": 74,
   "id": "9734efd9",
   "metadata": {},
   "outputs": [
    {
     "data": {
      "text/plain": [
       "0.3063432904207466"
      ]
     },
     "execution_count": 74,
     "metadata": {},
     "output_type": "execute_result"
    }
   ],
   "source": [
    "ASR"
   ]
  },
  {
   "cell_type": "code",
   "execution_count": 75,
   "id": "7f853b44",
   "metadata": {},
   "outputs": [
    {
     "data": {
      "text/plain": [
       "0.03325123460254326"
      ]
     },
     "execution_count": 75,
     "metadata": {},
     "output_type": "execute_result"
    }
   ],
   "source": [
    "portfolio_val['Daily Return'].std()"
   ]
  },
  {
   "cell_type": "code",
   "execution_count": 76,
   "id": "e8699846",
   "metadata": {},
   "outputs": [
    {
     "data": {
      "text/plain": [
       "0.0006416761202571576"
      ]
     },
     "execution_count": 76,
     "metadata": {},
     "output_type": "execute_result"
    }
   ],
   "source": [
    "portfolio_val['Daily Return'].mean()"
   ]
  },
  {
   "cell_type": "code",
   "execution_count": null,
   "id": "50b0b75f",
   "metadata": {},
   "outputs": [],
   "source": []
  }
 ],
 "metadata": {
  "kernelspec": {
   "display_name": "Python 3",
   "language": "python",
   "name": "python3"
  },
  "language_info": {
   "codemirror_mode": {
    "name": "ipython",
    "version": 3
   },
   "file_extension": ".py",
   "mimetype": "text/x-python",
   "name": "python",
   "nbconvert_exporter": "python",
   "pygments_lexer": "ipython3",
   "version": "3.9.5"
  }
 },
 "nbformat": 4,
 "nbformat_minor": 5
}
