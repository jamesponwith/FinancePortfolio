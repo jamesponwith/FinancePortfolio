{
 "cells": [
  {
   "cell_type": "code",
   "execution_count": 1,
   "id": "fd79f9fb",
   "metadata": {},
   "outputs": [],
   "source": [
    "import numpy as np\n",
    "import pandas as pd\n",
    "import matplotlib.pyplot as plt\n",
    "%matplotlib inline"
   ]
  },
  {
   "cell_type": "code",
   "execution_count": null,
   "id": "979100cc",
   "metadata": {},
   "outputs": [],
   "source": [
    "# Grabbing a bunch of tech stocks for our portfolio\n",
    "# symbol = 'WIKI/TSLA'\n",
    "# tsla_df = web.DataReader(symbol, 'quandl', '2017-06-01', '2021-06-01',0,api_key='VyMgAh2xwHRz5fEhZH4-')\n",
    "# symbol = 'WIKI/QCOM'\n",
    "# qcom_df = web.DataReader(symbol, 'quandl', '2017-06-01', '2021-06-01',0,api_key='VyMgAh2xwHRz5fEhZH4-')\n",
    "# symbol = 'WIKI/NKE'\n",
    "# nke_df = web.DataReader(symbol, 'quandl', '2017-06-01', '2021-06-01',0,api_key='VyMgAh2xwHRz5fEhZH4-')\n",
    "# symbol = 'WIKI/DIS'\n",
    "# dis_df = web.DataReader(symbol, 'quandl', '2017-06-01', '2021-06-01',0,api_key='VyMgAh2xwHRz5fEhZH4-')\n",
    "# symbol = 'WIKI/JNJ'\n",
    "# jnj_df = web.DataReader(symbol, 'quandl', '2017-06-01', '2021-06-01',0,api_key='VyMgAh2xwHRz5fEhZH4-')"
   ]
  },
  {
   "cell_type": "code",
   "execution_count": null,
   "id": "2668c969",
   "metadata": {},
   "outputs": [],
   "source": [
    "# Grabbing a bunch of tech stocks for our portfolio\n",
    "# aapl = quandl.get('WIKI/TSLA',start_date=start,end_date=end)\n",
    "# import quandl\n",
    "\n",
    "\n",
    "# start = pd.to_datetime('2017-06-01')\n",
    "# end = pd.to_datetime('2021-06-01')"
   ]
  },
  {
   "cell_type": "code",
   "execution_count": 2,
   "id": "15267637",
   "metadata": {},
   "outputs": [],
   "source": [
    "# Download and get Daily Returns\n",
    "tsla = pd.read_csv('./data/WIKI-TSLA.csv',index_col='Date',parse_dates=True)\n",
    "qcom = pd.read_csv('./data/WIKI-QCOM.csv',index_col='Date',parse_dates=True)\n",
    "nke = pd.read_csv('./data/WIKI-NKE.csv',index_col='Date',parse_dates=True)\n",
    "dis = pd.read_csv('./data/WIKI-DIS.csv',index_col='Date',parse_dates=True)\n",
    "jnj = pd.read_csv('./data/WIKI-JNJ.csv',index_col='Date',parse_dates=True)"
   ]
  },
  {
   "cell_type": "code",
   "execution_count": 3,
   "id": "9231c11a",
   "metadata": {},
   "outputs": [],
   "source": [
    "stocks = pd.concat([tsla['Adj. Close'],qcom['Adj. Close'],nke['Adj. Close'],dis['Adj. Close'],jnj['Adj. Close']],axis=1)\n",
    "stocks.columns = ['tsla','qcom','nke','dis', 'jnj']"
   ]
  },
  {
   "cell_type": "markdown",
   "id": "8bf4952f",
   "metadata": {},
   "source": [
    "Created dataframe with the closeing prices"
   ]
  },
  {
   "cell_type": "code",
   "execution_count": 4,
   "id": "43811818",
   "metadata": {},
   "outputs": [
    {
     "data": {
      "text/html": [
       "<div>\n",
       "<style scoped>\n",
       "    .dataframe tbody tr th:only-of-type {\n",
       "        vertical-align: middle;\n",
       "    }\n",
       "\n",
       "    .dataframe tbody tr th {\n",
       "        vertical-align: top;\n",
       "    }\n",
       "\n",
       "    .dataframe thead th {\n",
       "        text-align: right;\n",
       "    }\n",
       "</style>\n",
       "<table border=\"1\" class=\"dataframe\">\n",
       "  <thead>\n",
       "    <tr style=\"text-align: right;\">\n",
       "      <th></th>\n",
       "      <th>tsla</th>\n",
       "      <th>qcom</th>\n",
       "      <th>nke</th>\n",
       "      <th>dis</th>\n",
       "      <th>jnj</th>\n",
       "    </tr>\n",
       "    <tr>\n",
       "      <th>Date</th>\n",
       "      <th></th>\n",
       "      <th></th>\n",
       "      <th></th>\n",
       "      <th></th>\n",
       "      <th></th>\n",
       "    </tr>\n",
       "  </thead>\n",
       "  <tbody>\n",
       "    <tr>\n",
       "      <th>1962-01-02</th>\n",
       "      <td>NaN</td>\n",
       "      <td>NaN</td>\n",
       "      <td>NaN</td>\n",
       "      <td>0.141259</td>\n",
       "      <td>NaN</td>\n",
       "    </tr>\n",
       "    <tr>\n",
       "      <th>1962-01-03</th>\n",
       "      <td>NaN</td>\n",
       "      <td>NaN</td>\n",
       "      <td>NaN</td>\n",
       "      <td>0.143155</td>\n",
       "      <td>NaN</td>\n",
       "    </tr>\n",
       "    <tr>\n",
       "      <th>1962-01-04</th>\n",
       "      <td>NaN</td>\n",
       "      <td>NaN</td>\n",
       "      <td>NaN</td>\n",
       "      <td>0.143155</td>\n",
       "      <td>NaN</td>\n",
       "    </tr>\n",
       "    <tr>\n",
       "      <th>1962-01-05</th>\n",
       "      <td>NaN</td>\n",
       "      <td>NaN</td>\n",
       "      <td>NaN</td>\n",
       "      <td>0.143648</td>\n",
       "      <td>NaN</td>\n",
       "    </tr>\n",
       "    <tr>\n",
       "      <th>1962-01-08</th>\n",
       "      <td>NaN</td>\n",
       "      <td>NaN</td>\n",
       "      <td>NaN</td>\n",
       "      <td>0.143155</td>\n",
       "      <td>NaN</td>\n",
       "    </tr>\n",
       "  </tbody>\n",
       "</table>\n",
       "</div>"
      ],
      "text/plain": [
       "            tsla  qcom  nke       dis  jnj\n",
       "Date                                      \n",
       "1962-01-02   NaN   NaN  NaN  0.141259  NaN\n",
       "1962-01-03   NaN   NaN  NaN  0.143155  NaN\n",
       "1962-01-04   NaN   NaN  NaN  0.143155  NaN\n",
       "1962-01-05   NaN   NaN  NaN  0.143648  NaN\n",
       "1962-01-08   NaN   NaN  NaN  0.143155  NaN"
      ]
     },
     "execution_count": 4,
     "metadata": {},
     "output_type": "execute_result"
    }
   ],
   "source": [
    "stocks.head()"
   ]
  },
  {
   "cell_type": "code",
   "execution_count": 5,
   "id": "75af2f57",
   "metadata": {},
   "outputs": [
    {
     "data": {
      "text/plain": [
       "tsla    0.001766\n",
       "qcom    0.001235\n",
       "nke     0.001002\n",
       "dis     0.000707\n",
       "jnj     0.000570\n",
       "dtype: float64"
      ]
     },
     "execution_count": 5,
     "metadata": {},
     "output_type": "execute_result"
    }
   ],
   "source": [
    "stocks.pct_change(1).mean()"
   ]
  },
  {
   "cell_type": "code",
   "execution_count": 6,
   "id": "cac688e0",
   "metadata": {},
   "outputs": [
    {
     "data": {
      "text/html": [
       "<div>\n",
       "<style scoped>\n",
       "    .dataframe tbody tr th:only-of-type {\n",
       "        vertical-align: middle;\n",
       "    }\n",
       "\n",
       "    .dataframe tbody tr th {\n",
       "        vertical-align: top;\n",
       "    }\n",
       "\n",
       "    .dataframe thead th {\n",
       "        text-align: right;\n",
       "    }\n",
       "</style>\n",
       "<table border=\"1\" class=\"dataframe\">\n",
       "  <thead>\n",
       "    <tr style=\"text-align: right;\">\n",
       "      <th></th>\n",
       "      <th>tsla</th>\n",
       "      <th>qcom</th>\n",
       "      <th>nke</th>\n",
       "      <th>dis</th>\n",
       "      <th>jnj</th>\n",
       "    </tr>\n",
       "  </thead>\n",
       "  <tbody>\n",
       "    <tr>\n",
       "      <th>tsla</th>\n",
       "      <td>1.000000</td>\n",
       "      <td>0.227461</td>\n",
       "      <td>0.237808</td>\n",
       "      <td>0.266527</td>\n",
       "      <td>0.191565</td>\n",
       "    </tr>\n",
       "    <tr>\n",
       "      <th>qcom</th>\n",
       "      <td>0.227461</td>\n",
       "      <td>1.000000</td>\n",
       "      <td>0.227505</td>\n",
       "      <td>0.279320</td>\n",
       "      <td>0.177891</td>\n",
       "    </tr>\n",
       "    <tr>\n",
       "      <th>nke</th>\n",
       "      <td>0.237808</td>\n",
       "      <td>0.227505</td>\n",
       "      <td>1.000000</td>\n",
       "      <td>0.277021</td>\n",
       "      <td>0.231250</td>\n",
       "    </tr>\n",
       "    <tr>\n",
       "      <th>dis</th>\n",
       "      <td>0.266527</td>\n",
       "      <td>0.279320</td>\n",
       "      <td>0.277021</td>\n",
       "      <td>1.000000</td>\n",
       "      <td>0.320459</td>\n",
       "    </tr>\n",
       "    <tr>\n",
       "      <th>jnj</th>\n",
       "      <td>0.191565</td>\n",
       "      <td>0.177891</td>\n",
       "      <td>0.231250</td>\n",
       "      <td>0.320459</td>\n",
       "      <td>1.000000</td>\n",
       "    </tr>\n",
       "  </tbody>\n",
       "</table>\n",
       "</div>"
      ],
      "text/plain": [
       "          tsla      qcom       nke       dis       jnj\n",
       "tsla  1.000000  0.227461  0.237808  0.266527  0.191565\n",
       "qcom  0.227461  1.000000  0.227505  0.279320  0.177891\n",
       "nke   0.237808  0.227505  1.000000  0.277021  0.231250\n",
       "dis   0.266527  0.279320  0.277021  1.000000  0.320459\n",
       "jnj   0.191565  0.177891  0.231250  0.320459  1.000000"
      ]
     },
     "execution_count": 6,
     "metadata": {},
     "output_type": "execute_result"
    }
   ],
   "source": [
    "stocks.pct_change(1).corr()"
   ]
  },
  {
   "cell_type": "code",
   "execution_count": 7,
   "id": "f82f1b30",
   "metadata": {},
   "outputs": [
    {
     "data": {
      "text/html": [
       "<div>\n",
       "<style scoped>\n",
       "    .dataframe tbody tr th:only-of-type {\n",
       "        vertical-align: middle;\n",
       "    }\n",
       "\n",
       "    .dataframe tbody tr th {\n",
       "        vertical-align: top;\n",
       "    }\n",
       "\n",
       "    .dataframe thead th {\n",
       "        text-align: right;\n",
       "    }\n",
       "</style>\n",
       "<table border=\"1\" class=\"dataframe\">\n",
       "  <thead>\n",
       "    <tr style=\"text-align: right;\">\n",
       "      <th></th>\n",
       "      <th>tsla</th>\n",
       "      <th>qcom</th>\n",
       "      <th>nke</th>\n",
       "      <th>dis</th>\n",
       "      <th>jnj</th>\n",
       "    </tr>\n",
       "    <tr>\n",
       "      <th>Date</th>\n",
       "      <th></th>\n",
       "      <th></th>\n",
       "      <th></th>\n",
       "      <th></th>\n",
       "      <th></th>\n",
       "    </tr>\n",
       "  </thead>\n",
       "  <tbody>\n",
       "    <tr>\n",
       "      <th>1962-01-02</th>\n",
       "      <td>NaN</td>\n",
       "      <td>NaN</td>\n",
       "      <td>NaN</td>\n",
       "      <td>NaN</td>\n",
       "      <td>NaN</td>\n",
       "    </tr>\n",
       "    <tr>\n",
       "      <th>1962-01-03</th>\n",
       "      <td>NaN</td>\n",
       "      <td>NaN</td>\n",
       "      <td>NaN</td>\n",
       "      <td>0.013423</td>\n",
       "      <td>NaN</td>\n",
       "    </tr>\n",
       "    <tr>\n",
       "      <th>1962-01-04</th>\n",
       "      <td>NaN</td>\n",
       "      <td>NaN</td>\n",
       "      <td>NaN</td>\n",
       "      <td>0.000000</td>\n",
       "      <td>NaN</td>\n",
       "    </tr>\n",
       "    <tr>\n",
       "      <th>1962-01-05</th>\n",
       "      <td>NaN</td>\n",
       "      <td>NaN</td>\n",
       "      <td>NaN</td>\n",
       "      <td>0.003444</td>\n",
       "      <td>NaN</td>\n",
       "    </tr>\n",
       "    <tr>\n",
       "      <th>1962-01-08</th>\n",
       "      <td>NaN</td>\n",
       "      <td>NaN</td>\n",
       "      <td>NaN</td>\n",
       "      <td>-0.003432</td>\n",
       "      <td>NaN</td>\n",
       "    </tr>\n",
       "  </tbody>\n",
       "</table>\n",
       "</div>"
      ],
      "text/plain": [
       "            tsla  qcom  nke       dis  jnj\n",
       "Date                                      \n",
       "1962-01-02   NaN   NaN  NaN       NaN  NaN\n",
       "1962-01-03   NaN   NaN  NaN  0.013423  NaN\n",
       "1962-01-04   NaN   NaN  NaN  0.000000  NaN\n",
       "1962-01-05   NaN   NaN  NaN  0.003444  NaN\n",
       "1962-01-08   NaN   NaN  NaN -0.003432  NaN"
      ]
     },
     "execution_count": 7,
     "metadata": {},
     "output_type": "execute_result"
    }
   ],
   "source": [
    "stocks.pct_change(1).head()"
   ]
  },
  {
   "cell_type": "code",
   "execution_count": 8,
   "id": "c307682f",
   "metadata": {},
   "outputs": [
    {
     "data": {
      "text/html": [
       "<div>\n",
       "<style scoped>\n",
       "    .dataframe tbody tr th:only-of-type {\n",
       "        vertical-align: middle;\n",
       "    }\n",
       "\n",
       "    .dataframe tbody tr th {\n",
       "        vertical-align: top;\n",
       "    }\n",
       "\n",
       "    .dataframe thead th {\n",
       "        text-align: right;\n",
       "    }\n",
       "</style>\n",
       "<table border=\"1\" class=\"dataframe\">\n",
       "  <thead>\n",
       "    <tr style=\"text-align: right;\">\n",
       "      <th></th>\n",
       "      <th>tsla</th>\n",
       "      <th>qcom</th>\n",
       "      <th>nke</th>\n",
       "      <th>dis</th>\n",
       "      <th>jnj</th>\n",
       "    </tr>\n",
       "    <tr>\n",
       "      <th>Date</th>\n",
       "      <th></th>\n",
       "      <th></th>\n",
       "      <th></th>\n",
       "      <th></th>\n",
       "      <th></th>\n",
       "    </tr>\n",
       "  </thead>\n",
       "  <tbody>\n",
       "    <tr>\n",
       "      <th>1962-01-02</th>\n",
       "      <td>NaN</td>\n",
       "      <td>NaN</td>\n",
       "      <td>NaN</td>\n",
       "      <td>NaN</td>\n",
       "      <td>NaN</td>\n",
       "    </tr>\n",
       "    <tr>\n",
       "      <th>1962-01-03</th>\n",
       "      <td>NaN</td>\n",
       "      <td>NaN</td>\n",
       "      <td>NaN</td>\n",
       "      <td>0.013334</td>\n",
       "      <td>NaN</td>\n",
       "    </tr>\n",
       "    <tr>\n",
       "      <th>1962-01-04</th>\n",
       "      <td>NaN</td>\n",
       "      <td>NaN</td>\n",
       "      <td>NaN</td>\n",
       "      <td>0.000000</td>\n",
       "      <td>NaN</td>\n",
       "    </tr>\n",
       "    <tr>\n",
       "      <th>1962-01-05</th>\n",
       "      <td>NaN</td>\n",
       "      <td>NaN</td>\n",
       "      <td>NaN</td>\n",
       "      <td>0.003438</td>\n",
       "      <td>NaN</td>\n",
       "    </tr>\n",
       "    <tr>\n",
       "      <th>1962-01-08</th>\n",
       "      <td>NaN</td>\n",
       "      <td>NaN</td>\n",
       "      <td>NaN</td>\n",
       "      <td>-0.003438</td>\n",
       "      <td>NaN</td>\n",
       "    </tr>\n",
       "  </tbody>\n",
       "</table>\n",
       "</div>"
      ],
      "text/plain": [
       "            tsla  qcom  nke       dis  jnj\n",
       "Date                                      \n",
       "1962-01-02   NaN   NaN  NaN       NaN  NaN\n",
       "1962-01-03   NaN   NaN  NaN  0.013334  NaN\n",
       "1962-01-04   NaN   NaN  NaN  0.000000  NaN\n",
       "1962-01-05   NaN   NaN  NaN  0.003438  NaN\n",
       "1962-01-08   NaN   NaN  NaN -0.003438  NaN"
      ]
     },
     "execution_count": 8,
     "metadata": {},
     "output_type": "execute_result"
    }
   ],
   "source": [
    "log_ret = np.log(stocks/stocks.shift(1))\n",
    "log_ret.head()"
   ]
  },
  {
   "cell_type": "code",
   "execution_count": 9,
   "id": "60452fa0",
   "metadata": {},
   "outputs": [
    {
     "data": {
      "image/png": "[encoded data removed]",
      "text/plain": [
       "<Figure size 864x576 with 6 Axes>"
      ]
     },
     "metadata": {
      "needs_background": "light"
     },
     "output_type": "display_data"
    }
   ],
   "source": [
    "log_ret.hist(bins=100,figsize=(12,8))\n",
    "plt.tight_layout()"
   ]
  },
  {
   "cell_type": "code",
   "execution_count": 10,
   "id": "7e65df6a",
   "metadata": {},
   "outputs": [
    {
     "data": {
      "text/plain": [
       "tsla    0.001262\n",
       "qcom    0.000734\n",
       "nke     0.000735\n",
       "dis     0.000464\n",
       "jnj     0.000464\n",
       "dtype: float64"
      ]
     },
     "execution_count": 10,
     "metadata": {},
     "output_type": "execute_result"
    }
   ],
   "source": [
    "log_ret.mean()"
   ]
  },
  {
   "cell_type": "code",
   "execution_count": 11,
   "id": "fb4c4fac",
   "metadata": {},
   "outputs": [
    {
     "data": {
      "text/html": [
       "<div>\n",
       "<style scoped>\n",
       "    .dataframe tbody tr th:only-of-type {\n",
       "        vertical-align: middle;\n",
       "    }\n",
       "\n",
       "    .dataframe tbody tr th {\n",
       "        vertical-align: top;\n",
       "    }\n",
       "\n",
       "    .dataframe thead th {\n",
       "        text-align: right;\n",
       "    }\n",
       "</style>\n",
       "<table border=\"1\" class=\"dataframe\">\n",
       "  <thead>\n",
       "    <tr style=\"text-align: right;\">\n",
       "      <th></th>\n",
       "      <th>tsla</th>\n",
       "      <th>qcom</th>\n",
       "      <th>nke</th>\n",
       "      <th>dis</th>\n",
       "      <th>jnj</th>\n",
       "    </tr>\n",
       "  </thead>\n",
       "  <tbody>\n",
       "    <tr>\n",
       "      <th>tsla</th>\n",
       "      <td>0.252794</td>\n",
       "      <td>0.030143</td>\n",
       "      <td>0.028162</td>\n",
       "      <td>0.027906</td>\n",
       "      <td>0.013888</td>\n",
       "    </tr>\n",
       "    <tr>\n",
       "      <th>qcom</th>\n",
       "      <td>0.030143</td>\n",
       "      <td>0.251253</td>\n",
       "      <td>0.036720</td>\n",
       "      <td>0.042058</td>\n",
       "      <td>0.019030</td>\n",
       "    </tr>\n",
       "    <tr>\n",
       "      <th>nke</th>\n",
       "      <td>0.028162</td>\n",
       "      <td>0.036720</td>\n",
       "      <td>0.128582</td>\n",
       "      <td>0.031298</td>\n",
       "      <td>0.019875</td>\n",
       "    </tr>\n",
       "    <tr>\n",
       "      <th>dis</th>\n",
       "      <td>0.027906</td>\n",
       "      <td>0.042058</td>\n",
       "      <td>0.031298</td>\n",
       "      <td>0.123429</td>\n",
       "      <td>0.026420</td>\n",
       "    </tr>\n",
       "    <tr>\n",
       "      <th>jnj</th>\n",
       "      <td>0.013888</td>\n",
       "      <td>0.019030</td>\n",
       "      <td>0.019875</td>\n",
       "      <td>0.026420</td>\n",
       "      <td>0.053511</td>\n",
       "    </tr>\n",
       "  </tbody>\n",
       "</table>\n",
       "</div>"
      ],
      "text/plain": [
       "          tsla      qcom       nke       dis       jnj\n",
       "tsla  0.252794  0.030143  0.028162  0.027906  0.013888\n",
       "qcom  0.030143  0.251253  0.036720  0.042058  0.019030\n",
       "nke   0.028162  0.036720  0.128582  0.031298  0.019875\n",
       "dis   0.027906  0.042058  0.031298  0.123429  0.026420\n",
       "jnj   0.013888  0.019030  0.019875  0.026420  0.053511"
      ]
     },
     "execution_count": 11,
     "metadata": {},
     "output_type": "execute_result"
    }
   ],
   "source": [
    "log_ret.cov() * 252"
   ]
  },
  {
   "cell_type": "code",
   "execution_count": 18,
   "id": "e776381f",
   "metadata": {},
   "outputs": [],
   "source": [
    "np.random.seed(101)\n",
    "\n",
    "num_ports = 5000\n",
    "\n",
    "all_weights = np.zeros((num_ports, len(stocks.columns)))\n",
    "ret_arr = np.zeros(num_ports)\n",
    "vol_arr = np.zeros(num_ports)\n",
    "sharpe_arr = np.zeros(num_ports)\n",
    "\n",
    "for ind in range(num_ports):\n",
    "\n",
    "#    print(stocks.columns)\n",
    "\n",
    "    # Weights\n",
    "    weights = np.array(np.random.random(5))\n",
    "    weights = weights/np.sum(weights)\n",
    "    \n",
    "    # Save Weights\n",
    "    all_weights[ind,:] = weights\n",
    "    \n",
    "#    print(\"Expected Portfolio Return\")\n",
    "    ret_arr[ind] = np.sum( (log_ret.mean() * weights) * 252)\n",
    "\n",
    "#    print(\"Expected Volatility\")\n",
    "    vol_arr[ind] = np.sqrt(np.dot(weights.T,np.dot(log_ret.cov()*252, weights)))\n",
    "\n",
    "#    print(\"Sharpe Ratio\")\n",
    "    sharpe_arr[ind] = ret_arr[ind]/vol_arr[ind]"
   ]
  },
  {
   "cell_type": "code",
   "execution_count": 19,
   "id": "2c854453",
   "metadata": {},
   "outputs": [
    {
     "data": {
      "text/plain": [
       "0.8529096410192284"
      ]
     },
     "execution_count": 19,
     "metadata": {},
     "output_type": "execute_result"
    }
   ],
   "source": [
    "sharpe_arr.max()"
   ]
  },
  {
   "cell_type": "code",
   "execution_count": 20,
   "id": "34592563",
   "metadata": {},
   "outputs": [
    {
     "data": {
      "text/plain": [
       "72"
      ]
     },
     "execution_count": 20,
     "metadata": {},
     "output_type": "execute_result"
    }
   ],
   "source": [
    "sharpe_arr.argmax()"
   ]
  },
  {
   "cell_type": "code",
   "execution_count": 21,
   "id": "907d010e",
   "metadata": {},
   "outputs": [
    {
     "data": {
      "text/plain": [
       "array([0.13048674, 0.24716991, 0.0237618 , 0.27615635, 0.3224252 ])"
      ]
     },
     "execution_count": 21,
     "metadata": {},
     "output_type": "execute_result"
    }
   ],
   "source": [
    "all_weights[1420,:]"
   ]
  },
  {
   "cell_type": "code",
   "execution_count": 22,
   "id": "1122a1a0",
   "metadata": {},
   "outputs": [],
   "source": [
    "max_sr_ret = ret_arr[1420]\n",
    "max_sr_vol = vol_arr[1420]"
   ]
  },
  {
   "cell_type": "code",
   "execution_count": 23,
   "id": "66b11525",
   "metadata": {},
   "outputs": [
    {
     "data": {
      "text/plain": [
       "<matplotlib.collections.PathCollection at 0x12fc9dbe0>"
      ]
     },
     "execution_count": 23,
     "metadata": {},
     "output_type": "execute_result"
    },
    {
     "data": {
      "image/png": "[encoded data removed]",
      "text/plain": [
       "<Figure size 864x576 with 2 Axes>"
      ]
     },
     "metadata": {
      "needs_background": "light"
     },
     "output_type": "display_data"
    }
   ],
   "source": [
    "plt.figure(figsize=(12,8))\n",
    "plt.scatter(vol_arr,ret_arr,c=sharpe_arr,cmap='plasma')\n",
    "plt.colorbar(label='Sharpe Ratio')\n",
    "plt.xlabel = 'Volatility'\n",
    "plt.ylabel = 'Return'\n",
    "\n",
    "plt.scatter(max_sr_vol,max_sr_ret,c='red',s=50,edgecolors='black')"
   ]
  },
  {
   "cell_type": "code",
   "execution_count": 24,
   "id": "0e2a66a9",
   "metadata": {},
   "outputs": [],
   "source": [
    "def get_ret_vol_sr(weights):\n",
    "    weights = np.array(weights)\n",
    "    ret = np.sum(log_ret.mean() * weights) * 252\n",
    "    vol = np.sqrt(np.dot(weights.T, np.dot(log_ret.cov()*252,weights)))\n",
    "    sr=ret/vol\n",
    "    return np.array([ret,vol,sr])"
   ]
  },
  {
   "cell_type": "code",
   "execution_count": null,
   "id": "787e833b",
   "metadata": {
    "scrolled": true
   },
   "outputs": [],
   "source": [
    "from scipy.optimize import minimize"
   ]
  },
  {
   "cell_type": "code",
   "execution_count": null,
   "id": "3050751e",
   "metadata": {},
   "outputs": [],
   "source": [
    "def neg_sharpe(weights):\n",
    "    return get_ret_vol_sr(weights)[2] * -1"
   ]
  },
  {
   "cell_type": "code",
   "execution_count": null,
   "id": "50cd85fa",
   "metadata": {},
   "outputs": [],
   "source": [
    "def check_sum(weights):\n",
    "    #return 0 if the sum of the weights is 1\n",
    "    return np.sum(weights) - 1"
   ]
  },
  {
   "cell_type": "code",
   "execution_count": null,
   "id": "3ccbfa03",
   "metadata": {},
   "outputs": [],
   "source": [
    "cons = ({'type':'eq','fun':check_sum})"
   ]
  },
  {
   "cell_type": "code",
   "execution_count": null,
   "id": "af8b9a50",
   "metadata": {},
   "outputs": [],
   "source": [
    "bounds = ((0,1),(0,1),(0,1),(0,1))"
   ]
  },
  {
   "cell_type": "code",
   "execution_count": null,
   "id": "cd99c957",
   "metadata": {},
   "outputs": [],
   "source": [
    "init_guess = [0.25,0.25,0.25,0.25]"
   ]
  },
  {
   "cell_type": "code",
   "execution_count": null,
   "id": "c628203b",
   "metadata": {},
   "outputs": [],
   "source": [
    "opt_results = minimize(neg_sharpe,init_guess,method='SLSQP',bounds=bounds,constraints=cons)"
   ]
  },
  {
   "cell_type": "code",
   "execution_count": null,
   "id": "010e7b22",
   "metadata": {},
   "outputs": [],
   "source": [
    "opt_results"
   ]
  },
  {
   "cell_type": "code",
   "execution_count": null,
   "id": "6fb7cf95",
   "metadata": {},
   "outputs": [],
   "source": [
    "opt_results.x"
   ]
  },
  {
   "cell_type": "code",
   "execution_count": null,
   "id": "e4dc4108",
   "metadata": {},
   "outputs": [],
   "source": [
    "get_ret_vol_sr(opt_results.x)"
   ]
  },
  {
   "cell_type": "code",
   "execution_count": null,
   "id": "4052d314",
   "metadata": {},
   "outputs": [],
   "source": [
    "frontier_y = np.linspace(0,0.3,100)"
   ]
  },
  {
   "cell_type": "code",
   "execution_count": null,
   "id": "142d3c14",
   "metadata": {},
   "outputs": [],
   "source": [
    "def minimize_volatility(weights):\n",
    "    return get_ret_vol_sr(weights)[1]"
   ]
  },
  {
   "cell_type": "code",
   "execution_count": null,
   "id": "0a9d3e02",
   "metadata": {},
   "outputs": [],
   "source": [
    "frontier_volatility = []\n",
    "\n",
    "for possible_return in frontier_y:\n",
    "    cons = ({'type':'eq', 'fun':check_sum},\n",
    "           {'type':'eq','fun':lambda w: get_ret_vol_sr(w)[0]-possible_return})\n",
    "    \n",
    "    results = minimize(minimize_volatility,init_guess,method='SLSQP',bounds=bounds,constraints=cons)\n",
    "    \n",
    "    frontier_volatility.append(results['fun'])"
   ]
  },
  {
   "cell_type": "code",
   "execution_count": null,
   "id": "dc32f105",
   "metadata": {},
   "outputs": [],
   "source": [
    "plt.figure(figsize=(12,8))\n",
    "plt.scatter(vol_arr,ret_arr,c=sharpe_arr,cmap='plasma')\n",
    "plt.colorbar(label='Sharpe Ratio')\n",
    "plt.xlabel = 'Volatility'\n",
    "plt.ylabel = 'Return'\n",
    "\n",
    "plt.plot(frontier_volatility, frontier_y, 'g--',linewidth=3)"
   ]
  }
 ],
 "metadata": {
  "kernelspec": {
   "display_name": "Python 3",
   "language": "python",
   "name": "python3"
  },
  "language_info": {
   "codemirror_mode": {
    "name": "ipython",
    "version": 3
   },
   "file_extension": ".py",
   "mimetype": "text/x-python",
   "name": "python",
   "nbconvert_exporter": "python",
   "pygments_lexer": "ipython3",
   "version": "3.9.6"
  }
 },
 "nbformat": 4,
 "nbformat_minor": 5
}
