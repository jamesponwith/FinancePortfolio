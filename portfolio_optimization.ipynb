{
 "cells": [
  {
   "cell_type": "code",
   "execution_count": null,
   "id": "fd79f9fb",
   "metadata": {},
   "outputs": [],
   "source": [
    "import numpy as np\n",
    "import pandas as pd\n",
    "import matplotlib.pyplot as plt\n",
    "%matplotlib inline"
   ]
  },
  {
   "cell_type": "code",
   "execution_count": null,
   "id": "979100cc",
   "metadata": {},
   "outputs": [],
   "source": [
    "# Grabbing a bunch of tech stocks for our portfolio\n",
    "# symbol = 'WIKI/TSLA'\n",
    "# tsla_df = web.DataReader(symbol, 'quandl', '2017-06-01', '2021-06-01',0,api_key='VyMgAh2xwHRz5fEhZH4-')\n",
    "# symbol = 'WIKI/QCOM'\n",
    "# qcom_df = web.DataReader(symbol, 'quandl', '2017-06-01', '2021-06-01',0,api_key='VyMgAh2xwHRz5fEhZH4-')\n",
    "# symbol = 'WIKI/NKE'\n",
    "# nke_df = web.DataReader(symbol, 'quandl', '2017-06-01', '2021-06-01',0,api_key='VyMgAh2xwHRz5fEhZH4-')\n",
    "# symbol = 'WIKI/DIS'\n",
    "# dis_df = web.DataReader(symbol, 'quandl', '2017-06-01', '2021-06-01',0,api_key='VyMgAh2xwHRz5fEhZH4-')\n",
    "# symbol = 'WIKI/JNJ'\n",
    "# jnj_df = web.DataReader(symbol, 'quandl', '2017-06-01', '2021-06-01',0,api_key='VyMgAh2xwHRz5fEhZH4-')"
   ]
  },
  {
   "cell_type": "code",
   "execution_count": null,
   "id": "2668c969",
   "metadata": {},
   "outputs": [],
   "source": [
    "# Grabbing a bunch of tech stocks for our portfolio\n",
    "# aapl = quandl.get('WIKI/TSLA',start_date=start,end_date=end)\n",
    "# import quandl\n",
    "\n",
    "\n",
    "# start = pd.to_datetime('2017-06-01')\n",
    "# end = pd.to_datetime('2021-06-01')"
   ]
  },
  {
   "cell_type": "code",
   "execution_count": null,
   "id": "15267637",
   "metadata": {},
   "outputs": [],
   "source": [
    "# Download and get Daily Returns\n",
    "tsla = pd.read_csv('./data/WIKI-TSLA.csv',index_col='Date',parse_dates=True)\n",
    "qcom = pd.read_csv('./data/WIKI-QCOM.csv',index_col='Date',parse_dates=True)\n",
    "nke = pd.read_csv('./data/WIKI-NKE.csv',index_col='Date',parse_dates=True)\n",
    "dis = pd.read_csv('./data/WIKI-DIS.csv',index_col='Date',parse_dates=True)\n",
    "jnj = pd.read_csv('./data/WIKI-JNJ.csv',index_col='Date',parse_dates=True)"
   ]
  },
  {
   "cell_type": "code",
   "execution_count": null,
   "id": "9231c11a",
   "metadata": {},
   "outputs": [],
   "source": [
    "stocks = pd.concat([tsla['Adj. Close'],qcom['Adj. Close'],nke['Adj. Close'],dis['Adj. Close'],jnj['Adj. Close']],axis=1)\n",
    "stocks.columns = ['tsla','qcom','nke','dis', 'jnj']"
   ]
  },
  {
   "cell_type": "markdown",
   "id": "8bf4952f",
   "metadata": {},
   "source": [
    "Created dataframe with the closeing prices"
   ]
  },
  {
   "cell_type": "code",
   "execution_count": null,
   "id": "43811818",
   "metadata": {},
   "outputs": [],
   "source": [
    "stocks.head()"
   ]
  },
  {
   "cell_type": "code",
   "execution_count": null,
   "id": "75af2f57",
   "metadata": {},
   "outputs": [],
   "source": [
    "stocks.pct_change(1).mean()"
   ]
  },
  {
   "cell_type": "code",
   "execution_count": null,
   "id": "cac688e0",
   "metadata": {},
   "outputs": [],
   "source": [
    "stocks.pct_change(1).corr()"
   ]
  },
  {
   "cell_type": "code",
   "execution_count": null,
   "id": "f82f1b30",
   "metadata": {},
   "outputs": [],
   "source": [
    "stocks.pct_change(1).head()"
   ]
  },
  {
   "cell_type": "code",
   "execution_count": null,
   "id": "c307682f",
   "metadata": {},
   "outputs": [],
   "source": [
    "log_ret = np.log(stocks/stocks.shift(1))\n",
    "log_ret.head()"
   ]
  },
  {
   "cell_type": "code",
   "execution_count": null,
   "id": "60452fa0",
   "metadata": {},
   "outputs": [],
   "source": [
    "log_ret.hist(bins=100,figsize=(12,8))\n",
    "plt.tight_layout()"
   ]
  },
  {
   "cell_type": "code",
   "execution_count": null,
   "id": "7e65df6a",
   "metadata": {},
   "outputs": [],
   "source": [
    "log_ret.mean()"
   ]
  },
  {
   "cell_type": "code",
   "execution_count": null,
   "id": "fb4c4fac",
   "metadata": {},
   "outputs": [],
   "source": [
    "log_ret.cov() * 252"
   ]
  },
  {
   "cell_type": "code",
   "execution_count": null,
   "id": "e776381f",
   "metadata": {},
   "outputs": [],
   "source": [
    "np.random.seed(101)\n",
    "\n",
    "num_ports = 5000\n",
    "\n",
    "all_weights = np.zeros((num_ports, len(stocks.columns)))\n",
    "ret_arr = np.zeros(num_ports)\n",
    "vol_arr = np.zeros(num_ports)\n",
    "sharpe_arr = np.zeros(num_ports)\n",
    "\n",
    "for ind in range(num_ports):\n",
    "\n",
    "    print(stocks.columns)\n",
    "\n",
    "    # Weights\n",
    "    weights = np.array(np.random.random(4))\n",
    "    weights = weights/np.sum(weights)\n",
    "    \n",
    "    # Save Weights\n",
    "    all_weights[ind:] = weights\n",
    "    \n",
    "    print(\"Expected Portfolio Return\")\n",
    "    ret_arr[ind] = np.sum( (log_ret.mean() * weights) * 252)\n",
    "\n",
    "    print(\"Expected Volatility\")\n",
    "    vol_arr[ind] = np.sqrt(np.dot(weights.T,np.dot(log_ret.cov()*252, weights)))\n",
    "\n",
    "    print(\"Sharpe Ratio\")\n",
    "    sharpe_arr[ind] = ret_arr[ind]/vol_arr[ind]"
   ]
  },
  {
   "cell_type": "code",
   "execution_count": null,
   "id": "2c854453",
   "metadata": {},
   "outputs": [],
   "source": [
    "sharpe_arr.max()"
   ]
  },
  {
   "cell_type": "code",
   "execution_count": null,
   "id": "34592563",
   "metadata": {},
   "outputs": [],
   "source": [
    "sharpe_arr.argmax()"
   ]
  },
  {
   "cell_type": "code",
   "execution_count": null,
   "id": "907d010e",
   "metadata": {},
   "outputs": [],
   "source": [
    "all_weights[1420,:]"
   ]
  },
  {
   "cell_type": "code",
   "execution_count": null,
   "id": "1122a1a0",
   "metadata": {},
   "outputs": [],
   "source": [
    "max_sr_ret = ret_arr[1420]\n",
    "max_sr_vol = vol_arr[1420]"
   ]
  },
  {
   "cell_type": "code",
   "execution_count": null,
   "id": "66b11525",
   "metadata": {},
   "outputs": [],
   "source": [
    "plt.figure(figsize=(12,8))\n",
    "plt.scatter(vol_arr,ret_arr,c=sharpe_arr,cmap='plasma')\n",
    "plt.colorbar(label='Sharpe Ratio')\n",
    "plt.xlabel = 'Volatility'\n",
    "plt.ylabel = 'Return'\n",
    "\n",
    "plt.scatter(max_sr_vol,max_sr_ret,c='red',s=50,edgecolors='black')"
   ]
  },
  {
   "cell_type": "code",
   "execution_count": null,
   "id": "0e2a66a9",
   "metadata": {},
   "outputs": [],
   "source": [
    "def get_ret_vol_sr(weights):\n",
    "    weights = np.array(weights)\n",
    "    ret = np.sum(log_ret.mean() * weights) * 252\n",
    "    vol = np.sqrt(np.dot(weights.T, np.dot(log_ret.cov()*252,weights)))\n",
    "    sr=ret/vol\n",
    "    return np.array([ret,vol,sr])"
   ]
  },
  {
   "cell_type": "code",
   "execution_count": null,
   "id": "787e833b",
   "metadata": {},
   "outputs": [],
   "source": [
    "from scipy.optimize import minimize"
   ]
  },
  {
   "cell_type": "code",
   "execution_count": null,
   "id": "3050751e",
   "metadata": {},
   "outputs": [],
   "source": [
    "def neg_sharpe(weights):\n",
    "    return get_ret_vol_sr(weights)[2] * -1"
   ]
  },
  {
   "cell_type": "code",
   "execution_count": null,
   "id": "50cd85fa",
   "metadata": {},
   "outputs": [],
   "source": [
    "def check_sum(weights):\n",
    "    #return 0 if the sum of the weights is 1\n",
    "    return np.sum(weights) - 1"
   ]
  },
  {
   "cell_type": "code",
   "execution_count": null,
   "id": "3ccbfa03",
   "metadata": {},
   "outputs": [],
   "source": [
    "cons = ({'type':'eq','fun':check_sum})"
   ]
  },
  {
   "cell_type": "code",
   "execution_count": null,
   "id": "af8b9a50",
   "metadata": {},
   "outputs": [],
   "source": [
    "bounds = ((0,1),(0,1),(0,1),(0,1))"
   ]
  },
  {
   "cell_type": "code",
   "execution_count": null,
   "id": "cd99c957",
   "metadata": {},
   "outputs": [],
   "source": [
    "init_guess = [0.25,0.25,0.25,0.25]"
   ]
  },
  {
   "cell_type": "code",
   "execution_count": null,
   "id": "c628203b",
   "metadata": {},
   "outputs": [],
   "source": [
    "opt_results = minimize(neg_sharpe,init_guess,method='SLSQP',bounds=bounds,constraints=cons)"
   ]
  },
  {
   "cell_type": "code",
   "execution_count": null,
   "id": "010e7b22",
   "metadata": {},
   "outputs": [],
   "source": [
    "opt_results"
   ]
  },
  {
   "cell_type": "code",
   "execution_count": null,
   "id": "6fb7cf95",
   "metadata": {},
   "outputs": [],
   "source": [
    "opt_results.x"
   ]
  },
  {
   "cell_type": "code",
   "execution_count": null,
   "id": "e4dc4108",
   "metadata": {},
   "outputs": [],
   "source": [
    "get_ret_vol_sr(opt_results.x)"
   ]
  },
  {
   "cell_type": "code",
   "execution_count": null,
   "id": "4052d314",
   "metadata": {},
   "outputs": [],
   "source": [
    "frontier_y = np.linspace(0,0.3,100)"
   ]
  },
  {
   "cell_type": "code",
   "execution_count": null,
   "id": "142d3c14",
   "metadata": {},
   "outputs": [],
   "source": [
    "def minimize_volatility(weights):\n",
    "    return get_ret_vol_sr(weights)[1]"
   ]
  },
  {
   "cell_type": "code",
   "execution_count": null,
   "id": "0a9d3e02",
   "metadata": {},
   "outputs": [],
   "source": [
    "frontier_volatility = []\n",
    "\n",
    "for possible_return in frontier_y:\n",
    "    cons = ({'type':'eq', 'fun':check_sum},\n",
    "           {'type':'eq','fun':lambda w: get_ret_vol_sr(w)[0]-possible_return})\n",
    "    \n",
    "    results = minimize(minimize_volatility,init_guess,method='SLSQP',bounds=bounds,constraints=cons)\n",
    "    \n",
    "    frontier_volatility.append(results['fun'])"
   ]
  },
  {
   "cell_type": "code",
   "execution_count": null,
   "id": "dc32f105",
   "metadata": {},
   "outputs": [],
   "source": [
    "plt.figure(figsize=(12,8))\n",
    "plt.scatter(vol_arr,ret_arr,c=sharpe_arr,cmap='plasma')\n",
    "plt.colorbar(label='Sharpe Ratio')\n",
    "plt.xlabel = 'Volatility'\n",
    "plt.ylabel = 'Return'\n",
    "\n",
    "plt.plot(frontier_volatility, frontier_y, 'g--',linewidth=3)"
   ]
  }
 ],
 "metadata": {
  "kernelspec": {
   "display_name": "Python 3",
   "language": "python",
   "name": "python3"
  },
  "language_info": {
   "codemirror_mode": {
    "name": "ipython",
    "version": 3
   },
   "file_extension": ".py",
   "mimetype": "text/x-python",
   "name": "python",
   "nbconvert_exporter": "python",
   "pygments_lexer": "ipython3",
   "version": "3.9.6"
  }
 },
 "nbformat": 4,
 "nbformat_minor": 5
}
