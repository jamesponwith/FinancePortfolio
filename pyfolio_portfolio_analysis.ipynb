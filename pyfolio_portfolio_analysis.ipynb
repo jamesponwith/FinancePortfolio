{
 "cells": [
  {
   "cell_type": "code",
   "execution_count": null,
   "id": "1606a6e5",
   "metadata": {},
   "outputs": [],
   "source": [
    "import pyfolio as pf\n",
    "import matplotlib.pyplot as plt\n",
    "import empyrical"
   ]
  },
  {
   "cell_type": "code",
   "execution_count": null,
   "id": "fc779c7a",
   "metadata": {},
   "outputs": [],
   "source": [
    "# ALGO RETURNS\n",
    "# Backtest for two years using Quantopian where portfolio is 50/50 long AMZN and Short IBM\n",
    "bt = get_backtest('59890bef141ff74fb3f17477')"
   ]
  },
  {
   "cell_type": "code",
   "execution_count": null,
   "id": "ef964c59",
   "metadata": {},
   "outputs": [],
   "source": [
    "bt_returns = bt.daily_performance['returns']"
   ]
  },
  {
   "cell_type": "code",
   "execution_count": null,
   "id": "be240686",
   "metadata": {},
   "outputs": [],
   "source": [
    "bt_positions = bt.pyfolio_positions"
   ]
  },
  {
   "cell_type": "code",
   "execution_count": null,
   "id": "c7f72e3b",
   "metadata": {},
   "outputs": [],
   "source": [
    "bt_transactions = bt.pyfolio_transactions"
   ]
  },
  {
   "cell_type": "code",
   "execution_count": null,
   "id": "fb179b47",
   "metadata": {},
   "outputs": [],
   "source": [
    "# Benchmark (Track SPY)\n",
    "benchmark_rets = get_backtest('59890c844ba57f4fc2205bd1')"
   ]
  },
  {
   "cell_type": "code",
   "execution_count": null,
   "id": "09352179",
   "metadata": {},
   "outputs": [],
   "source": [
    "bm_returns = benchmark_rets.daily_performance['returns']"
   ]
  },
  {
   "cell_type": "code",
   "execution_count": null,
   "id": "9c979c46",
   "metadata": {},
   "outputs": [],
   "source": [
    "bm_positions = benchmark_rets.pyfolio_positions\n",
    "bm_transactions = benchmark_rets.pyfolio_transactions"
   ]
  },
  {
   "cell_type": "code",
   "execution_count": null,
   "id": "2ca583fe",
   "metadata": {},
   "outputs": [],
   "source": [
    "empyrical.sharpe_ratio(bt_returns)"
   ]
  },
  {
   "cell_type": "code",
   "execution_count": null,
   "id": "d37be56a",
   "metadata": {},
   "outputs": [],
   "source": [
    "empyrical.sharpe_ratio(bm_returns)"
   ]
  },
  {
   "cell_type": "code",
   "execution_count": null,
   "id": "81e6307f",
   "metadata": {},
   "outputs": [],
   "source": [
    "empyrical.beta(bt_returns, bm_returns)"
   ]
  },
  {
   "cell_type": "code",
   "execution_count": null,
   "id": "a61a813d",
   "metadata": {},
   "outputs": [],
   "source": [
    "# Cumulative Returns\n",
    "plt.subplot(2,1,1)\n",
    "pf.plotting.plot_rolling_returns(bt_returns, benchmark_rets)\n",
    "\n",
    "# Daily, Non cumulative returns\n",
    "plt.subplot(2,1,2)\n",
    "pf.plotting.plot_returns(bt_returns)\n",
    "plt.tight_layout()"
   ]
  },
  {
   "cell_type": "code",
   "execution_count": null,
   "id": "b50ace14",
   "metadata": {},
   "outputs": [],
   "source": [
    "fig = plt.figure(1)\n",
    "plt.subplot(1,3,1)\n",
    "pf.plot_annual_returns(bt_returns)\n",
    "plt.subplot(1,3,2)\n",
    "pf.plot_monthly_returns(bt_returns)\n",
    "plt.subplot(1,3,3)\n",
    "plt.plot_monthly_returns_heatmap(bt_returns)\n",
    "plt.tight_layout()\n",
    "fig.set_size_inches(15,5)"
   ]
  },
  {
   "cell_type": "code",
   "execution_count": null,
   "id": "5fa089a6",
   "metadata": {},
   "outputs": [],
   "source": [
    "pf.plot_return_quantiles(bt_returns);"
   ]
  },
  {
   "cell_type": "code",
   "execution_count": null,
   "id": "f627508b",
   "metadata": {},
   "outputs": [],
   "source": [
    "pf.plot_rolling_beta(bt_returns,benchmark_rets);"
   ]
  },
  {
   "cell_type": "code",
   "execution_count": null,
   "id": "519db699",
   "metadata": {},
   "outputs": [],
   "source": [
    "pf.plot_rolling_sharpe(bt_returns);"
   ]
  },
  {
   "cell_type": "code",
   "execution_count": null,
   "id": "15201261",
   "metadata": {},
   "outputs": [],
   "source": [
    "pf.plot_dropdown_periods(bt_returns);"
   ]
  },
  {
   "cell_type": "code",
   "execution_count": null,
   "id": "9bb8e43f",
   "metadata": {},
   "outputs": [],
   "source": [
    "pf.plot_dropdown_underwater(bt_returns);"
   ]
  },
  {
   "cell_type": "code",
   "execution_count": null,
   "id": "6c4c73af",
   "metadata": {},
   "outputs": [],
   "source": [
    "pf.plot_gross_leverage(bt_returns, bt_positions);"
   ]
  },
  {
   "cell_type": "code",
   "execution_count": null,
   "id": "eac63616",
   "metadata": {},
   "outputs": [],
   "source": [
    "pos_percent = pf.pos.get_percent_alloc(bt_positions)\n",
    "pf.plotting.show_and_plot_top_positions(bt_returns, pos_percent);"
   ]
  },
  {
   "cell_type": "code",
   "execution_count": null,
   "id": "959ff3fd",
   "metadata": {},
   "outputs": [],
   "source": [
    "pf.create_round_trip_tear_sheet(bt_returns, bt_positions, bt_transactions);"
   ]
  }
 ],
 "metadata": {
  "kernelspec": {
   "display_name": "Python 3",
   "language": "python",
   "name": "python3"
  },
  "language_info": {
   "codemirror_mode": {
    "name": "ipython",
    "version": 3
   },
   "file_extension": ".py",
   "mimetype": "text/x-python",
   "name": "python",
   "nbconvert_exporter": "python",
   "pygments_lexer": "ipython3",
   "version": "3.9.6"
  }
 },
 "nbformat": 4,
 "nbformat_minor": 5
}
