{
 "cells": [
  {
   "cell_type": "code",
   "execution_count": null,
   "id": "0bf77441",
   "metadata": {},
   "outputs": [],
   "source": [
    "import numpy as np\n",
    "import pandas as pd\n",
    "import matplotlib.pyplot as plt\n",
    "%matplotlib inline"
   ]
  },
  {
   "cell_type": "code",
   "execution_count": null,
   "id": "8d9ad2b6",
   "metadata": {},
   "outputs": [],
   "source": [
    "# You can safely ignore the warning:\n",
    "#  Please use the pandas.tseries module instead. from pandas.core import datetools\n",
    "import statsmodels.api as sm"
   ]
  },
  {
   "cell_type": "code",
   "execution_count": null,
   "id": "a81102c1",
   "metadata": {},
   "outputs": [],
   "source": [
    "df = sm.datasets.macrodata.load_pandas().data"
   ]
  },
  {
   "cell_type": "code",
   "execution_count": null,
   "id": "4ecfdafd",
   "metadata": {},
   "outputs": [],
   "source": [
    "print(sm.datasets.macrodata.NOTE)"
   ]
  },
  {
   "cell_type": "code",
   "execution_count": null,
   "id": "82378124",
   "metadata": {},
   "outputs": [],
   "source": [
    "df.head()"
   ]
  },
  {
   "cell_type": "code",
   "execution_count": null,
   "id": "6f484f54",
   "metadata": {},
   "outputs": [],
   "source": [
    "index = pd.Index(sm.tsa.datetools.dates_from_range('1959Q1', '2009Q3'))"
   ]
  },
  {
   "cell_type": "code",
   "execution_count": null,
   "id": "bb847024",
   "metadata": {},
   "outputs": [],
   "source": [
    "df.index = index"
   ]
  },
  {
   "cell_type": "code",
   "execution_count": null,
   "id": "dd3ac28e",
   "metadata": {},
   "outputs": [],
   "source": [
    "df.head()"
   ]
  },
  {
   "cell_type": "code",
   "execution_count": null,
   "id": "45db2c9f",
   "metadata": {},
   "outputs": [],
   "source": [
    "df['realgdp'].plot()\n",
    "plt.ylabel(\"REAL GDP\")"
   ]
  },
  {
   "cell_type": "code",
   "execution_count": null,
   "id": "8811baac",
   "metadata": {},
   "outputs": [],
   "source": [
    "# Tuple unpacking\n",
    "gdp_cycle, gdp_trend = sm.tsa.filters.hpfilter(df.realgdp)"
   ]
  },
  {
   "cell_type": "code",
   "execution_count": null,
   "id": "28a9d0c1",
   "metadata": {},
   "outputs": [],
   "source": [
    "gdp_cycle"
   ]
  },
  {
   "cell_type": "code",
   "execution_count": null,
   "id": "6a358eb1",
   "metadata": {},
   "outputs": [],
   "source": [
    "type(gdp_cycle)"
   ]
  },
  {
   "cell_type": "code",
   "execution_count": null,
   "id": "7dff4dab",
   "metadata": {},
   "outputs": [],
   "source": [
    "df[\"trend\"] = gdp_trend"
   ]
  },
  {
   "cell_type": "code",
   "execution_count": null,
   "id": "345b0236",
   "metadata": {},
   "outputs": [],
   "source": [
    "df[['trend','realgdp']].plot()"
   ]
  },
  {
   "cell_type": "code",
   "execution_count": null,
   "id": "a559e2ae",
   "metadata": {},
   "outputs": [],
   "source": [
    "df[['trend','realgdp']][\"2000-03-31\":].plot(figsize=(12,8))"
   ]
  }
 ],
 "metadata": {
  "kernelspec": {
   "display_name": "Python 3",
   "language": "python",
   "name": "python3"
  },
  "language_info": {
   "codemirror_mode": {
    "name": "ipython",
    "version": 3
   },
   "file_extension": ".py",
   "mimetype": "text/x-python",
   "name": "python",
   "nbconvert_exporter": "python",
   "pygments_lexer": "ipython3",
   "version": "3.9.6"
  }
 },
 "nbformat": 4,
 "nbformat_minor": 5
}
